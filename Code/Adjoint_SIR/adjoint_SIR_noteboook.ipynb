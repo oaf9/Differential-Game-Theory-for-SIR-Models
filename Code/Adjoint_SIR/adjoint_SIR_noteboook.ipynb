{
 "cells": [
  {
   "cell_type": "markdown",
   "metadata": {},
   "source": [
    "### Load Dependecies and Data"
   ]
  },
  {
   "cell_type": "code",
   "execution_count": null,
   "metadata": {},
   "outputs": [],
   "source": [
    "import pandas as pd\n",
    "import torch\n",
    "from torchdiffeq import odeint_adjoint as odeint\n",
    "from SIR_Adjoint import fit\n",
    "from matplotlib import pyplot as plt\n",
    "import numpy as np\n",
    "from scipy.integrate import odeint\n",
    "from scipy.interpolate import interp1d, LinearNDInterpolator, NearestNDInterpolator\n",
    "import matplotlib.patches as mpatches\n",
    "\n",
    "\n",
    "data = pd.read_csv(\"/Users/omarafifi/MyFolders/Differential-Game-Theory-for-SIR-Models/Data/_normalized.csv\", index_col = 0)\n",
    "S, I, R = data['S'].to_numpy(), data['I'].to_numpy(),  data['R'].to_numpy()\n",
    "S_0, I_0, R_0  = float(S[0]), float(I[0]), float(R[0])\n",
    "S_0, I_0, R_0  \n",
    "iB, ig = .01, .01\n",
    "N = 1\n",
    "\n",
    "p_0 = [iB, ig, S_0, I_0, R_0 ]"
   ]
  },
  {
   "cell_type": "markdown",
   "metadata": {},
   "source": [
    "### Git the model and plot outputs"
   ]
  },
  {
   "cell_type": "code",
   "execution_count": null,
   "metadata": {},
   "outputs": [],
   "source": [
    "X, model = fit(p_0 = p_0,X = data.to_numpy(), epochs = 200)"
   ]
  },
  {
   "cell_type": "code",
   "execution_count": null,
   "metadata": {},
   "outputs": [],
   "source": [
    "V_true = np.array([S,I]).T\n",
    "dV_true = V_true[1:,:] - V_true[0:-1]\n",
    "\n",
    "for t in range(0, len(V_true)-1, 5):\n",
    "    plt.arrow(x = V_true[t][0], y = V_true[t][1], dx = dV_true[t][0], dy = dV_true[t][1], color = 'red')\n",
    "\n",
    "\n",
    "with torch.no_grad():\n",
    "\n",
    "    for t in range(0, len(X), 5):\n",
    "\n",
    "        S,I,R = X[t][0].detach(),X[t][1].detach(),X[t][2].detach()\n",
    "        \n",
    "        dV = model.forward(t = torch.tensor(t+.00001), X = (S,I,R))\n",
    "        #plt.plot()\n",
    "        dS = dV[0].detach()\n",
    "        dI = dV[1].detach()\n",
    "        s, i = X[t][0].detach(), X[t][1].detach()\n",
    "        #plt.plot([s,i])\n",
    "        plt.arrow(x = s, y = i, dx = dS, dy = dI, color = 'blue')\n",
    "\n",
    "pred_patch = mpatches.Patch(color='blue', label='Velocity Flow For Predicted Data')\n",
    "true_patch = mpatches.Patch(color='red', label='Velocity Flow For Real Data')\n",
    "\n",
    "\n",
    "\n",
    "# Add the legend with both the normal and the proxy legend items\n",
    "plt.title(\"Baseline: Velocity Flow: Real vs Predicted\")\n",
    "plt.xlabel(\"Susceptible\")\n",
    "plt.ylabel(\"Infected\")\n",
    "plt.legend(handles=[true_patch, pred_patch], loc='lower left')\n",
    "plt.savefig(\"/Users/omarafifi/MyFolders/Differential-Game-Theory-for-SIR-Models/Images/Velocity_Baseline.png\")\n"
   ]
  },
  {
   "cell_type": "code",
   "execution_count": null,
   "metadata": {},
   "outputs": [],
   "source": [
    "\n",
    "plt.plot(X[:,0].detach(), linestyle='--', color = 'blue', label = \"S_true\" )\n",
    "plt.plot(X[:,1].detach(), linestyle='--', color = 'red', label = \"I_true\" )\n",
    "plt.plot(data.to_numpy()[:,0], color = 'blue', label = \"S_pred\" )\n",
    "plt.plot(data.to_numpy()[:,1], color = 'red', label = \"I_pred\" )\n",
    "\n",
    "\n",
    "plt.xlabel('Time')\n",
    "plt.ylabel('Proportion')\n",
    "plt.suptitle('Baseline: Data vs. Fitted Curves for SIR Dynamics')\n",
    "#ax.set_title('Using Results From Fitted Model')\n",
    "#plt.axhline(y=max(X[:,1]))\n",
    "plt.legend()\n",
    "\n",
    "#plt.set_facecolor('lightgrey')\n",
    "plt.savefig(\"/Users/omarafifi/MyFolders/Differential-Game-Theory-for-SIR-Models/Images/fitted_Curves_Baseline.png\")\n"
   ]
  }
 ],
 "metadata": {
  "kernelspec": {
   "display_name": "anaconda3",
   "language": "python",
   "name": "python3"
  },
  "language_info": {
   "codemirror_mode": {
    "name": "ipython",
    "version": 3
   },
   "file_extension": ".py",
   "mimetype": "text/x-python",
   "name": "python",
   "nbconvert_exporter": "python",
   "pygments_lexer": "ipython3",
   "version": "3.12.4"
  }
 },
 "nbformat": 4,
 "nbformat_minor": 2
}
