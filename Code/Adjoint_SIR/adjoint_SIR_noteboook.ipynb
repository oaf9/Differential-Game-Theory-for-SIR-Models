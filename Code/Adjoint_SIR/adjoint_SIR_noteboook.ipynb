{
 "cells": [
  {
   "cell_type": "markdown",
   "metadata": {},
   "source": [
    "### Load Dependecies and Data"
   ]
  },
  {
   "cell_type": "code",
   "execution_count": null,
   "metadata": {},
   "outputs": [],
   "source": [
    "import pandas as pd\n",
    "import torch\n",
    "from torchdiffeq import odeint_adjoint as odeint\n",
    "from SIR_Adjoint import fit\n",
    "from matplotlib import pyplot as plt\n",
    "import numpy as np\n",
    "from scipy.integrate import odeint\n",
    "\n",
    "data = pd.read_csv(\"/Users/omarafifi/MyFolders/Differential-Game-Theory-for-SIR-Models/Data/_normalized.csv\", index_col = 0)\n",
    "S, I, R = data['S'].to_numpy(), data['I'].to_numpy(),  data['R'].to_numpy()\n",
    "S_0, I_0, R_0  = float(S[0]), float(I[0]), float(R[0])\n",
    "S_0, I_0, R_0  \n",
    "iB, ig = .01, .01\n",
    "N = 1\n",
    "p_0 = [iB, ig, S_0, I_0, R_0 ]"
   ]
  },
  {
   "cell_type": "markdown",
   "metadata": {},
   "source": [
    "### Git the model and plot outputs"
   ]
  },
  {
   "cell_type": "code",
   "execution_count": null,
   "metadata": {},
   "outputs": [],
   "source": [
    "X = fit(p_0, I, 3, .001)"
   ]
  },
  {
   "cell_type": "markdown",
   "metadata": {},
   "source": [
    "### making a velocity plot:"
   ]
  },
  {
   "cell_type": "code",
   "execution_count": null,
   "metadata": {},
   "outputs": [],
   "source": [
    "def forward( X, t, *args):\n",
    "        # defines the SIR equations\n",
    "        Β, γ  = args\n",
    "        print(X)\n",
    "\n",
    "        S, I, R = X\n",
    "        N = S + I + R\n",
    "\n",
    "        dS = -(Β/N)*S*I\n",
    "        dI = (Β/N)*S*I - γ*I\n",
    "        dR = γ*I\n",
    "\n",
    "        return [dS, dI, dR]"
   ]
  },
  {
   "cell_type": "code",
   "execution_count": null,
   "metadata": {},
   "outputs": [],
   "source": [
    "times = np.arange(0,152,1)\n",
    "V = odeint(func = forward, \n",
    "           y0 = [S_0, I_0, R_0],\n",
    "           t = times, \n",
    "           args = (.2,.12))"
   ]
  },
  {
   "cell_type": "code",
   "execution_count": null,
   "metadata": {},
   "outputs": [],
   "source": [
    "plt.plot(V)\n",
    "#plt.plot(V[:, 0:2])"
   ]
  },
  {
   "cell_type": "code",
   "execution_count": null,
   "metadata": {},
   "outputs": [],
   "source": [
    "import matplotlib.pyplot as plt\n",
    "plt.figure(figsize=(4, 4))\n",
    "\n",
    "SIRV = np.vstack ((np.linspace(0.01,.99, 20), \n",
    "                   np.linspace(0.01,.99, 20), \n",
    "                   np.zeros(20))).T\n",
    "\n",
    "\n",
    "dV = np.array([forward(x_t, 0, .2,.12 ) for x_t in SIRV] )\n",
    "dVS = dV[:, 0]\n",
    "dVI = dV[:, 1]\n",
    "x_coord, y_coord = np.meshgrid(np.linspace(0.01,.99, 20), np.linspace(0.01,.99, 20))\n",
    "dVS, dVI = np.meshgrid(dVS, dVI)\n",
    "\n",
    "\n",
    "fig, ax = plt.subplots()\n",
    "ax.quiver(x_coord, y_coord, \n",
    "            dVS, dVI,\n",
    "            angles='xy',\n",
    "            scale=1.7, \n",
    "            color='r')\n",
    "\n",
    "# Labeling the axes and the plot\n",
    "plt.xlabel('Susceptible')\n",
    "plt.ylabel('Infected')\n",
    "plt.suptitle('Velocity Field for Susceptible and Infection Groups')\n",
    "plt.axhline(y=max(V[:,1]), label = \"max I(t)\", c = 'black')\n",
    "ax.set_title('Using Fitted Model')\n",
    "plt.legend(framealpha = 1)\n",
    "plt.show()"
   ]
  }
 ],
 "metadata": {
  "kernelspec": {
   "display_name": "anaconda3",
   "language": "python",
   "name": "python3"
  },
  "language_info": {
   "codemirror_mode": {
    "name": "ipython",
    "version": 3
   },
   "file_extension": ".py",
   "mimetype": "text/x-python",
   "name": "python",
   "nbconvert_exporter": "python",
   "pygments_lexer": "ipython3",
   "version": "3.12.4"
  }
 },
 "nbformat": 4,
 "nbformat_minor": 2
}
