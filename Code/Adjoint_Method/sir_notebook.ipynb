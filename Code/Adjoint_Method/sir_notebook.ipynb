{
 "cells": [
  {
   "cell_type": "code",
   "execution_count": null,
   "metadata": {},
   "outputs": [],
   "source": [
    "import pandas as pd\n",
    "import matplotlib.pyplot as plt\n",
    "import numpy as np\n",
    "from scipy import integrate\n",
    "from scipy.interpolate import interp1d\n",
    "\n",
    "from solve_SIR import solveSIR\n"
   ]
  },
  {
   "cell_type": "code",
   "execution_count": null,
   "metadata": {},
   "outputs": [],
   "source": [
    "data = pd.read_csv(\"/Users/omarafifi/MyFolders/Differential-Game-Theory-for-SIR-Models/Data/_normalized.csv\")\n",
    "S, I, R = data['S'].to_numpy(), data['I'].to_numpy(),  data['R'].to_numpy()\n",
    "S_0, I_0, R_0  = float(S[0]), float(I[0]), float(R[0])\n"
   ]
  },
  {
   "cell_type": "code",
   "execution_count": null,
   "metadata": {},
   "outputs": [],
   "source": [
    "plt.plot(np.array([S,I,R]).T)"
   ]
  },
  {
   "cell_type": "code",
   "execution_count": null,
   "metadata": {},
   "outputs": [],
   "source": [
    "solver = solveSIR(S_true = S, I_true = I,\n",
    "                  R_true = R, N = 1, \n",
    "                  p_0 = (.108, .04, S_0, I_0, R_0))\n",
    "\n",
    "V = solver.forwardSolve()\n",
    "solver.S_hat =  interp1d(np.arange(len(V)), V[:, 0], \n",
    "                kind = 'quadratic', fill_value=\"extrapolate\", axis=-1)\n",
    "solver.I_hat =  interp1d(np.arange(len(V)), V[:, 1], \n",
    "        kind = 'quadratic', fill_value=\"extrapolate\", axis=-1)\n",
    "solver.R_hat =  interp1d(np.arange(len(V)), V[:, 2], \n",
    "        kind = 'quadratic', fill_value=\"extrapolate\", axis=-1)\n",
    "\n",
    "plt.plot(V)\n",
    "\n",
    "y0 = V[-1]"
   ]
  },
  {
   "cell_type": "code",
   "execution_count": null,
   "metadata": {},
   "outputs": [],
   "source": [
    "out2 = solver.backwardsSolve()\n",
    "plt.plot(out2)\n",
    "y0 = out2[0]"
   ]
  },
  {
   "cell_type": "code",
   "execution_count": null,
   "metadata": {},
   "outputs": [],
   "source": [
    "plt.plot(solver.fbSolve(y0))"
   ]
  },
  {
   "cell_type": "code",
   "execution_count": null,
   "metadata": {},
   "outputs": [],
   "source": [
    "solver = solveSIR(S_true = S, I_true = I, R_true = R, N = 1, p_0 = (.1, .1, S_0, I_0, R_0))\n",
    "\n",
    "p, values = solver.fit()"
   ]
  },
  {
   "cell_type": "code",
   "execution_count": null,
   "metadata": {},
   "outputs": [],
   "source": [
    "import matplotlib.pyplot as plt\n",
    "plt.plot( np.arange(0, len(values), 1), values[:,0])\n",
    "plt.plot( np.arange(0, len(values), 1), values[:,1])\n",
    "plt.plot( np.arange(0, len(values), 1), values[:,2])"
   ]
  }
 ],
 "metadata": {
  "kernelspec": {
   "display_name": "anaconda3",
   "language": "python",
   "name": "python3"
  },
  "language_info": {
   "codemirror_mode": {
    "name": "ipython",
    "version": 3
   },
   "file_extension": ".py",
   "mimetype": "text/x-python",
   "name": "python",
   "nbconvert_exporter": "python",
   "pygments_lexer": "ipython3",
   "version": "3.12.4"
  }
 },
 "nbformat": 4,
 "nbformat_minor": 2
}
