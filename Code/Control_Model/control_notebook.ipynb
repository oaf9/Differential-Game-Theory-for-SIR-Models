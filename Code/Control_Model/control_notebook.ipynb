{
 "cells": [
  {
   "cell_type": "code",
   "execution_count": null,
   "metadata": {},
   "outputs": [],
   "source": [
    "from control_solver import fit\n",
    "import pandas as pd\n",
    "import numpy as np\n",
    "import matplotlib.pyplot as plt\n",
    "\n",
    "data = pd.read_csv(\"/Users/omarafifi/MyFolders/Differential-Game-Theory-for-SIR-Models/Data/_normalized.csv\", index_col = 0)\n",
    "S, I, R = data['S'].to_numpy(), data['I'].to_numpy(),  data['R'].to_numpy()\n",
    "S_0, I_0, R_0, V_0  = float(S[0]), float(I[0]), float(R[0]), 1\n",
    "iB, ig, m_0 = .1, .1, 2.3\n",
    "N = 1\n",
    "p_0 = [iB, ig, S_0, I_0, R_0, V_0]"
   ]
  },
  {
   "cell_type": "code",
   "execution_count": null,
   "metadata": {},
   "outputs": [],
   "source": [
    "X, model = fit(p_0, \n",
    "        m_0, \n",
    "        data.to_numpy(), \n",
    "        epochs = 10, \n",
    "        lr = .0001)"
   ]
  },
  {
   "cell_type": "code",
   "execution_count": null,
   "metadata": {},
   "outputs": [],
   "source": [
    "import matplotlib.pyplot as plt\n",
    "plt.figure(figsize=(4, 4))\n",
    "\n",
    "SIRV = np.vstack ((np.linspace(0.01,.99, 20), \n",
    "                   np.linspace(0.01,.99, 20), \n",
    "                   np.zeros(20), \n",
    "                   np.zeros(20) )).T\n",
    "\n",
    "\n",
    "dV = np.array( [model.forward(X = x_t, t = 0).detach() for x_t in SIRV] )\n",
    "dVS = dV[:, 0]\n",
    "dVI = dV[:, 1]\n",
    "dVS, dVI = np.meshgrid(dVS, dVI)\n",
    "\n",
    "\n",
    "\n",
    "fig, ax = plt.subplots()\n",
    "x_coord, y_coord = np.meshgrid(np.linspace(0.01,.99, 20), np.linspace(0.01,.99, 20))\n",
    "ax.quiver(  x_coord, \n",
    "            y_coord,\n",
    "            dVS, \n",
    "            dVI,\n",
    "            angles='xy',\n",
    "            scale=1.2, \n",
    "            color='r')\n",
    "\n",
    "# Labeling the axes and the plot\n",
    "plt.xlabel('Susceptible')\n",
    "plt.ylabel('Infected')\n",
    "plt.suptitle('Velocity Field for Susceptible and Infection Groups')\n",
    "ax.set_title('Using Results From Fitted Model')\n",
    "plt.axhline(y=max(X[:,1].detach()), label = \"max I(t)\", c = 'black')\n",
    "plt.legend(framealpha=1)\n",
    "plt.show()\n",
    "plt.savefig(\"/Users/omarafifi/MyFolders/Differential-Game-Theory-for-SIR-Models/Images/fitted_VF.png\")"
   ]
  },
  {
   "cell_type": "code",
   "execution_count": null,
   "metadata": {},
   "outputs": [],
   "source": [
    "\n",
    "plt.plot(X[:,0].detach(), linestyle='--', color = 'blue', label = \"S_true\" )\n",
    "plt.plot(X[:,1].detach(), linestyle='--', color = 'red', label = \"I_true\" )\n",
    "plt.plot(data.to_numpy()[:,0], color = 'blue', label = \"S_pred\" )\n",
    "plt.plot(data.to_numpy()[:,1], color = 'red', label = \"I_pred\" )\n",
    "\n",
    "\n",
    "plt.xlabel('Time')\n",
    "plt.ylabel('Proportion')\n",
    "plt.suptitle('Data vs. Fitted Curves for SIR Dynamics')\n",
    "#ax.set_title('Using Results From Fitted Model')\n",
    "#plt.axhline(y=max(X[:,1]))\n",
    "plt.savefig(\"/Users/omarafifi/MyFolders/Differential-Game-Theory-for-SIR-Models/Images/fitted_Curves.png\")\n",
    "plt.legend()\n",
    "plt.show()\n",
    "#plt.set_facecolor('lightgrey')"
   ]
  }
 ],
 "metadata": {
  "kernelspec": {
   "display_name": "anaconda3",
   "language": "python",
   "name": "python3"
  },
  "language_info": {
   "codemirror_mode": {
    "name": "ipython",
    "version": 3
   },
   "file_extension": ".py",
   "mimetype": "text/x-python",
   "name": "python",
   "nbconvert_exporter": "python",
   "pygments_lexer": "ipython3",
   "version": "3.12.4"
  }
 },
 "nbformat": 4,
 "nbformat_minor": 2
}
