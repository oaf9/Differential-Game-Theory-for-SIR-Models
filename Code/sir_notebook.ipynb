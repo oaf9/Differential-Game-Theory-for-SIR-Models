{
 "cells": [
  {
   "cell_type": "code",
   "execution_count": 50,
   "metadata": {},
   "outputs": [],
   "source": [
    "import pandas as pd\n",
    "import matplotlib.pyplot as plt\n",
    "import numpy as np\n",
    "from scipy import integrate"
   ]
  },
  {
   "cell_type": "code",
   "execution_count": 44,
   "metadata": {},
   "outputs": [],
   "source": [
    "data = pd.read_csv('/Users/omarafifi/MyFolders/Differential-Game-Theory-for-SIR-Models/Data/formatted_data.csv')"
   ]
  },
  {
   "cell_type": "markdown",
   "metadata": {},
   "source": [
    "## Implementing the Adjoint Method"
   ]
  },
  {
   "cell_type": "markdown",
   "metadata": {},
   "source": [
    "#### 1.1 implement the forward pass "
   ]
  },
  {
   "cell_type": "code",
   "execution_count": 45,
   "metadata": {},
   "outputs": [],
   "source": [
    "#step 1 is to solve the forward problem I.e. to integrate the constraining ode. \n",
    "timesteps = 21\n",
    "\n",
    "def SIR(V, t, *args):\n",
    "\n",
    "    \"\"\"defines the SIR model\n",
    "       V = (S, I, R)\n",
    "       args = (N,Β, γ)\n",
    "    \"\"\"\n",
    "\n",
    "    N, B, g  = args\n",
    "    S, I, R = V\n",
    "\n",
    "    dS = -(B/N)*S*I\n",
    "    dI = (B/N)*S*I - g*I\n",
    "    dR = g*I\n",
    "\n",
    "    return dS, dI, dR\n",
    "\n",
    "def forwardSolve(model, initial_values, params, tf, step):\n",
    "\n",
    "    \"\"\"solves the forward problem\n",
    "\n",
    "       initial_values = (S_0,I_0,R_0)\n",
    "       params = (N,Β, γ)\n",
    "       model = SIR\n",
    "       tf = stop time\n",
    "       step = number of time steps\n",
    "\n",
    "    \"\"\"\n",
    "    try:\n",
    "        from scipy.integrate import odeint\n",
    "        import numpy as np\n",
    "    except:\n",
    "        print(\"unable to install dependancies numpy and scipy.integrate.odeint\")\n",
    "    \n",
    "    time_steps = np.arange(0, tf, step)\n",
    "    print(params)\n",
    "\n",
    "    return odeint(model, t = time_steps, y0 = initial_values, args = params)"
   ]
  },
  {
   "cell_type": "markdown",
   "metadata": {},
   "source": [
    "### 1.2 Backwards integrate  $ \\frac{\\partial f }{\\partial x}  + \\lambda (t)^T( \\frac{\\partial h }{\\partial x} - \\frac{\\partial }{\\partial t} \\frac{\\partial h }{\\partial \\dot x}) - \\frac{\\partial \\lambda }{\\partial t} \\frac{\\partial h }{\\partial \\dot x} = 0 $ from $t_f \\to 0$"
   ]
  },
  {
   "cell_type": "code",
   "execution_count": 46,
   "metadata": {},
   "outputs": [],
   "source": [
    "from scipy.interpolate import interp1d\n",
    "\n",
    "\n",
    "#dummy values for I and I hat \n",
    "I = data['I'].to_numpy()\n",
    "S = data['S'].to_numpy()\n",
    "I_hat = np.arange(0, 22, 1)\n",
    "\n",
    "I = interp1d(np.arange(0, 22, 1), I)\n",
    "S_hat = interp1d(np.arange(0, 22, 1), S)\n",
    "I_hat = interp1d(np.arange(0, 22, 1), I_hat)\n",
    "\n",
    "def lamdaDE(λ, t,  *args):\n",
    "    \"\"\"\n",
    "    calculate the derivative of the I component of lambda \n",
    "    infections should be a tuple (I, I_pred) of ground truth and predicted values\n",
    "    over the given time frame. \n",
    "\n",
    "    args = (N,Β, γ)\n",
    "    \"\"\"\n",
    "\n",
    "    N, β, γ  = args\n",
    "\n",
    "    df_dx = 2*np.array([0, I(t) - I_hat(t), 0])\n",
    "\n",
    "    dh_dx = np.array([[β*I_hat(t)/N ,  β*S_hat(t)/N, 0],\n",
    "                     [-β*I_hat(t)/N, -β*S_hat(t)/N, 0],\n",
    "                     [0            ,            -γ, 0]])\n",
    "\n",
    "    return  df_dx + np.array(λ).T@dh_dx\n",
    "\n",
    "def backwardSolve(model, params, tf):\n",
    "    \"\"\"Backwards solve for λ(t). \n",
    "    \"\"\"\n",
    "    #we have to integrate backwards\n",
    "\n",
    "    from scipy.integrate import odeint\n",
    "    import numpy as np\n",
    "\n",
    "    time_steps = np.arange(tf -1, -1, -1)\n",
    "\n",
    "    return odeint(func = lamdaDE, y0 = [0,0,0], t = time_steps, args = params)\n"
   ]
  },
  {
   "cell_type": "markdown",
   "metadata": {},
   "source": [
    "3) #### Integrate for $d_pF$\n",
    "\n",
    "\n",
    "$$d_pF(x,p) = \\int_0^{t_f} \\left ( \\frac{\\partial f}{\\partial p} + \\lambda(t)^T  \n",
    "\\frac{\\partial h}{\\partial p} \\right )dt + \\lambda(0)^T  \\left [ \\frac{\\partial g}{\\partial x_0} \\right ]^{-1}\n",
    "\\left [ \\frac{\\partial g}{\\partial p} \\right ]$$"
   ]
  },
  {
   "cell_type": "code",
   "execution_count": null,
   "metadata": {},
   "outputs": [],
   "source": [
    "df_dp = np.zeros((5))\n",
    "\n",
    "dg_dx0 = np.eye(3)\n",
    "dg_dp = -np.array([[0,0,1,0,0],\n",
    "                   [0,0,0,1,0],\n",
    "                   [0,0,0,0,1]])\n",
    "dg_dp\n",
    "\n",
    "N = 1000\n",
    "\n",
    "def dh_dp(t):\n",
    "    return np.array([[ I_hat(t)*S_hat(t) ,         0,0,0,0],\n",
    "                    [-I_hat(t)*S_hat(t)/N,  I_hat(t),0,0,0],\n",
    "                    [ 0                  , -I_hat(t),0,0,0]])\n",
    "\n",
    "def integrand(t,λ): \n",
    "    return df_dp + λ[t].T@dh_dp(t)\n",
    "\n",
    "\n",
    "def dF_dp(tf, λ):\n",
    " \n",
    "    #we get all the timesteps: \n",
    "    time_steps = np.arange(0, tf, 1)\n",
    "    integrands = [integrand(t) for t in time_steps]\n",
    "\n",
    "    #integrate with simpson's method\n",
    "    return integrate.simpson(y = integrands, x = time_stpes, axis = 0)\n",
    "\n",
    "\n",
    "\n",
    "\n",
    "\n",
    "\n"
   ]
  },
  {
   "cell_type": "code",
   "execution_count": null,
   "metadata": {},
   "outputs": [],
   "source": []
  }
 ],
 "metadata": {
  "kernelspec": {
   "display_name": "anaconda3",
   "language": "python",
   "name": "python3"
  },
  "language_info": {
   "codemirror_mode": {
    "name": "ipython",
    "version": 3
   },
   "file_extension": ".py",
   "mimetype": "text/x-python",
   "name": "python",
   "nbconvert_exporter": "python",
   "pygments_lexer": "ipython3",
   "version": "3.12.4"
  }
 },
 "nbformat": 4,
 "nbformat_minor": 2
}
