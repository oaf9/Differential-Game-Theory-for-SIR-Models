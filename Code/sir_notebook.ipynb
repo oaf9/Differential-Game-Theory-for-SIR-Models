{
 "cells": [
  {
   "cell_type": "code",
   "execution_count": 140,
   "metadata": {},
   "outputs": [],
   "source": [
    "import pandas as pd\n",
    "import matplotlib.pyplot as plt\n",
    "import numpy as np\n",
    "from scipy import integrate\n",
    "#import the package\n",
    "import solve_SIR"
   ]
  },
  {
   "cell_type": "code",
   "execution_count": 141,
   "metadata": {},
   "outputs": [],
   "source": [
    "data = pd.read_csv('/Users/omarafifi/MyFolders/Differential-Game-Theory-for-SIR-Models/Data/formatted_data.csv')"
   ]
  },
  {
   "cell_type": "code",
   "execution_count": 142,
   "metadata": {},
   "outputs": [],
   "source": [
    "S, I, R = data['S'].to_numpy(), data['I'].to_numpy(),  data['R'].to_numpy()\n",
    "S_0, I_0, R_0  = S[0], I[0], R[0]\n"
   ]
  },
  {
   "cell_type": "code",
   "execution_count": null,
   "metadata": {},
   "outputs": [],
   "source": [
    "\n",
    "\n",
    "solver = solveSIR(S_true = S, I_true = I, R_true = R, N = 10200000, p_0 = (3, 1, S_0, I_0, R_0))\n",
    "solver.fit()\n",
    "\n",
    "params, values = solver.fit()"
   ]
  },
  {
   "cell_type": "code",
   "execution_count": null,
   "metadata": {},
   "outputs": [],
   "source": [
    "import matplotlib.pyplot as plt\n",
    "plt.plot( np.arange(0, len(values), 1), values[:,0])\n",
    "plt.plot( np.arange(0, len(values), 1), values[:,1])\n",
    "plt.plot( np.arange(0, len(values), 1), values[:,2])"
   ]
  }
 ],
 "metadata": {
  "kernelspec": {
   "display_name": "anaconda3",
   "language": "python",
   "name": "python3"
  },
  "language_info": {
   "codemirror_mode": {
    "name": "ipython",
    "version": 3
   },
   "file_extension": ".py",
   "mimetype": "text/x-python",
   "name": "python",
   "nbconvert_exporter": "python",
   "pygments_lexer": "ipython3",
   "version": "3.12.4"
  }
 },
 "nbformat": 4,
 "nbformat_minor": 2
}
