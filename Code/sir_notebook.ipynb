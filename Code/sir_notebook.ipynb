{
 "cells": [
  {
   "cell_type": "code",
   "execution_count": 424,
   "metadata": {},
   "outputs": [],
   "source": [
    "import pandas as pd\n",
    "import matplotlib.pyplot as plt\n",
    "import numpy as np\n",
    "from scipy import integrate"
   ]
  },
  {
   "cell_type": "code",
   "execution_count": 425,
   "metadata": {},
   "outputs": [],
   "source": [
    "data = pd.read_csv('/Users/omarafifi/MyFolders/Differential-Game-Theory-for-SIR-Models/Data/formatted_data.csv')"
   ]
  },
  {
   "cell_type": "markdown",
   "metadata": {},
   "source": [
    "## Implementing the Adjoint Method"
   ]
  },
  {
   "cell_type": "markdown",
   "metadata": {},
   "source": [
    "#### 1.1 implement the forward pass "
   ]
  },
  {
   "cell_type": "code",
   "execution_count": 426,
   "metadata": {},
   "outputs": [],
   "source": [
    "#step 1 is to solve the forward problem I.e. to integrate the constraining ode. \n",
    "timesteps = 21\n",
    "\n",
    "def SIR(V, t, *args):\n",
    "\n",
    "    \"\"\"defines the SIR model\n",
    "       V = (S, I, R)\n",
    "       args = (N,Β, γ)\n",
    "    \"\"\"\n",
    "\n",
    "    N, B, g  = args\n",
    "    S, I, R = V\n",
    "\n",
    "    dS = -(B/N)*S*I\n",
    "    dI = (B/N)*S*I - g*I\n",
    "    dR = g*I\n",
    "\n",
    "    return dS, dI, dR\n",
    "\n",
    "def forwardSolve(model, initial_values, params, tf, step):\n",
    "\n",
    "    \"\"\"solves the forward problem\n",
    "\n",
    "       initial_values = (S_0,I_0,R_0)\n",
    "       params = (N,Β, γ)\n",
    "       model = SIR\n",
    "       tf = stop time\n",
    "       step = number of time steps\n",
    "\n",
    "    \"\"\"\n",
    "    try:\n",
    "        from scipy.integrate import odeint\n",
    "        import numpy as np\n",
    "    except:\n",
    "        print(\"unable to install dependancies numpy and scipy.integrate.odeint\")\n",
    "    \n",
    "    time_steps = np.arange(0, tf, step)\n",
    "    print(params)\n",
    "\n",
    "    return odeint(model, t = time_steps, y0 = initial_values, args = params)"
   ]
  },
  {
   "cell_type": "code",
   "execution_count": 427,
   "metadata": {},
   "outputs": [
    {
     "name": "stdout",
     "output_type": "stream",
     "text": [
      "(10200000, 3, 1)\n"
     ]
    }
   ],
   "source": [
    "gg = forwardSolve(model = SIR, \n",
    "             initial_values = (8749080, 455710, 995210),\n",
    "             params = (10200000,3, 1), \n",
    "             tf = 22,\n",
    "             step = 1)"
   ]
  },
  {
   "cell_type": "markdown",
   "metadata": {},
   "source": [
    "### 1.2 Backwards integrate  $ \\frac{\\partial f }{\\partial x}  + \\lambda (t)^T( \\frac{\\partial h }{\\partial x} - \\frac{\\partial }{\\partial t} \\frac{\\partial h }{\\partial \\dot x}) - \\frac{\\partial \\lambda }{\\partial t} \\frac{\\partial h }{\\partial \\dot x} = 0 $ from $t_f \\to 0$"
   ]
  },
  {
   "cell_type": "code",
   "execution_count": 428,
   "metadata": {},
   "outputs": [],
   "source": [
    "from scipy.interpolate import interp1d\n",
    "\n",
    "#dummy values for I and I hat \n",
    "I = data['I'].to_numpy()\n",
    "S = data['S'].to_numpy()\n",
    "I_hat = np.arange(0, 22, 1)\n",
    "\n",
    "I = interp1d(np.arange(0, 22, 1), I)\n",
    "S_hat = interp1d(np.arange(0, 22, 1), S, fill_value=\"extrapolate\")\n",
    "I_hat = interp1d(np.arange(0, 22, 1), I_hat, fill_value=\"extrapolate\")\n",
    "\n",
    "def lamdaDE(λ, t, *args):\n",
    "    \"\"\"\n",
    "    calculate the derivative of the I component of lambda \n",
    "    infections should be a tuple (I, I_pred) of ground truth and predicted values\n",
    "    over the given time frame. \n",
    "\n",
    "    args = (N,Β, γ)\n",
    "    \"\"\"\n",
    "\n",
    "    N, β, γ  = args\n",
    "\n",
    "    df_dx = 2*np.array([0, I(t) - I_hat(t), 0])\n",
    "\n",
    "    dh_dx = np.array([[β*I_hat(t)/N ,  β*S_hat(t)/N, 0],\n",
    "                     [-β*I_hat(t)/N, -β*S_hat(t)/N, 0],\n",
    "                     [0            ,            -γ, 0]])\n",
    "\n",
    "    return  df_dx + np.array(λ).T@dh_dx\n",
    "\n",
    "def backwardsSolve(model, params, tf):\n",
    "    \"\"\"Backwards solve for λ(t). \n",
    "    \"\"\"\n",
    "    #we have to integrate backwards\n",
    "\n",
    "    from scipy.integrate import odeint\n",
    "    import numpy as np\n",
    "\n",
    "    time_steps = np.arange(tf -1, -1, -1)\n",
    "\n",
    "    return odeint(func = lamdaDE, y0 = [0,0,0], t = time_steps, args = params)\n"
   ]
  },
  {
   "cell_type": "code",
   "execution_count": 429,
   "metadata": {},
   "outputs": [
    {
     "data": {
      "text/plain": [
       "array([21, 20, 19, 18, 17, 16, 15, 14, 13, 12, 11, 10,  9,  8,  7,  6,  5,\n",
       "        4,  3,  2,  1,  0])"
      ]
     },
     "execution_count": 429,
     "metadata": {},
     "output_type": "execute_result"
    }
   ],
   "source": [
    "tf = 22\n",
    "np.arange(tf -1, -1, -1)"
   ]
  },
  {
   "cell_type": "code",
   "execution_count": 430,
   "metadata": {},
   "outputs": [
    {
     "name": "stderr",
     "output_type": "stream",
     "text": [
      "/var/folders/rs/6g2mhpzn6lq_k8wtscfvn5h80000gn/T/ipykernel_39686/2625914364.py:41: ODEintWarning: Excess work done on this call (perhaps wrong Dfun type). Run with full_output = 1 to get quantitative information.\n",
      "  return odeint(func = lamdaDE, y0 = [0,0,0], t = time_steps, args = params)\n"
     ]
    },
    {
     "data": {
      "text/plain": [
       "array([[ 0.00000000e+00,  0.00000000e+00,  0.00000000e+00],\n",
       "       [-1.06563354e+28, -2.01803050e+33,  0.00000000e+00],\n",
       "       [ 0.00000000e+00,  0.00000000e+00,  0.00000000e+00],\n",
       "       [ 0.00000000e+00,  0.00000000e+00,  0.00000000e+00],\n",
       "       [ 0.00000000e+00,  0.00000000e+00,  0.00000000e+00],\n",
       "       [ 0.00000000e+00,  0.00000000e+00,  0.00000000e+00],\n",
       "       [ 0.00000000e+00,  0.00000000e+00,  0.00000000e+00],\n",
       "       [ 0.00000000e+00,  0.00000000e+00,  0.00000000e+00],\n",
       "       [ 0.00000000e+00,  0.00000000e+00,  0.00000000e+00],\n",
       "       [ 0.00000000e+00,  0.00000000e+00,  0.00000000e+00],\n",
       "       [ 0.00000000e+00,  0.00000000e+00,  0.00000000e+00],\n",
       "       [ 0.00000000e+00,  0.00000000e+00,  0.00000000e+00],\n",
       "       [ 0.00000000e+00,  0.00000000e+00,  0.00000000e+00],\n",
       "       [ 0.00000000e+00,  0.00000000e+00,  0.00000000e+00],\n",
       "       [ 0.00000000e+00,  0.00000000e+00,  0.00000000e+00],\n",
       "       [ 0.00000000e+00,  0.00000000e+00,  0.00000000e+00],\n",
       "       [ 0.00000000e+00,  0.00000000e+00,  0.00000000e+00],\n",
       "       [ 0.00000000e+00,  0.00000000e+00,  0.00000000e+00],\n",
       "       [ 0.00000000e+00,  0.00000000e+00,  0.00000000e+00],\n",
       "       [ 0.00000000e+00,  0.00000000e+00,  0.00000000e+00],\n",
       "       [ 0.00000000e+00,  0.00000000e+00,  0.00000000e+00]])"
      ]
     },
     "execution_count": 430,
     "metadata": {},
     "output_type": "execute_result"
    }
   ],
   "source": [
    "backwardsSolve(lamdaDE, (100, 3,1), 21)"
   ]
  },
  {
   "cell_type": "markdown",
   "metadata": {},
   "source": [
    "3) #### Integrate for $d_pF$\n",
    "\n",
    "\n",
    "$$d_pF(x,p) = \\int_0^{t_f} \\left ( \\frac{\\partial f}{\\partial p} + \\lambda(t)^T  \n",
    "\\frac{\\partial h}{\\partial p} \\right )dt + \\lambda(0)^T  \\left [ \\frac{\\partial g}{\\partial x_0} \\right ]^{-1}\n",
    "\\left [ \\frac{\\partial g}{\\partial p} \\right ]$$"
   ]
  },
  {
   "cell_type": "code",
   "execution_count": 431,
   "metadata": {},
   "outputs": [],
   "source": [
    "df_dp = np.zeros((5))\n",
    "\n",
    "dg_dx0 = np.eye(3)\n",
    "dh_dx_dt = np.eye(3)\n",
    "dg_dp = -np.array([[0,0,1,0,0],\n",
    "                   [0,0,0,1,0],\n",
    "                   [0,0,0,0,1]])\n",
    "dg_dp\n",
    "\n",
    "N = 1000\n",
    "\n",
    "def dh_dp(t):\n",
    "    return np.array([[ I_hat(t)*S_hat(t) ,         0,0,0,0],\n",
    "                    [-I_hat(t)*S_hat(t)/N,  I_hat(t),0,0,0],\n",
    "                    [ 0                  , -I_hat(t),0,0,0]])\n",
    "\n",
    "def integrand(t,λ): \n",
    "    return df_dp + λ[t].T@dh_dp(t)\n",
    "\n",
    "\n",
    "def dF_dp(tf, λ):\n",
    " \n",
    "    #we get all the timesteps: \n",
    "    time_steps = np.arange(0, tf, 1)\n",
    "    integrands = [integrand(t, λ) for t in time_steps]\n",
    "\n",
    "    #integrate with simpson's method and add the gx(0)gp term \n",
    "    return (integrate.simpson(y = integrands, x = time_steps, axis = 0) + \n",
    "            λ[0].T@dh_dx_dt@ np.linalg.inv(dg_dx0)@dg_dp)\n"
   ]
  },
  {
   "cell_type": "code",
   "execution_count": 432,
   "metadata": {},
   "outputs": [],
   "source": [
    "#set initial paramater values to the data estimates\n",
    "# (β,γ, N, S_0, I_0, R_0)\n",
    "p_0 = ( 3, 1, 10200000, 8749080, 455710, 995210)\n",
    "\n"
   ]
  },
  {
   "cell_type": "code",
   "execution_count": null,
   "metadata": {},
   "outputs": [],
   "source": [
    "from scipy.integrate import odeint, solve_ivp\n",
    "\n",
    "class solveSIR:\n",
    "\n",
    "    #class variables \n",
    "    S_hat = None\n",
    "    I_hat = None\n",
    "    R_hat = None\n",
    "\n",
    "    #constructor\n",
    "    def __init__(self, S_true, I_true, R_true, N, p_0):\n",
    "    \n",
    "        self.tf = len(S_true)\n",
    "        self.N = N\n",
    "        self.p = p_0\n",
    "        self.time_steps = np.arange(0, len(S), 1)\n",
    "        self.I = interp1d(self.time_steps,I_true, fill_value=\"extrapolate\")\n",
    "        self.S = interp1d(self.time_steps,S_true, fill_value=\"extrapolate\")\n",
    "        self.R = interp1d(self.time_steps,R_true, fill_value=\"extrapolate\")\n",
    "\n",
    "    def SIR(self, V, t):\n",
    "\n",
    "        \"\"\"defines the SIR model dynamics\n",
    "        V = (S, I, R)\n",
    "        args = (N,Β, γ)\n",
    "        \"\"\"\n",
    "\n",
    "        B, g  = self.p[0:2]\n",
    "        S, I, R = V\n",
    "\n",
    "        dS = -(B/self.N)*S*I\n",
    "        dI = (B/self.N)*S*I - g*I\n",
    "        dR = g*I\n",
    "\n",
    "        return dS, dI, dR\n",
    "\n",
    "    def forwardSolve(self):\n",
    "\n",
    "        \"\"\"solves the forward problem\n",
    "        \"\"\"\n",
    "        return odeint(self.SIR, \n",
    "                      y0 = self.p[2:],\n",
    "                      t = self.time_steps)\n",
    "\n",
    "\n",
    "    def lamdaDE(self, λ, t):\n",
    "        \"\"\"\n",
    "        calculate the derivative of the I component of lambda \n",
    "        infections should be a tuple (I, I_pred) of ground truth and predicted values\n",
    "        over the given time frame. \n",
    "        \"\"\"\n",
    "        β, γ  = self.p[0:2]\n",
    "\n",
    "    \n",
    "\n",
    "        # simpler names for readability\n",
    "        I, I_hat, S_hat, N = self.I(t), self.I_hat(t), self.S_hat(t), self.N\n",
    " \n",
    "\n",
    "\n",
    "        df_dx = 2*np.array([0, I - I_hat, 0])\n",
    "        dh_dx = np.array([[β*I_hat/N  ,  β*S_hat/N, 0],\n",
    "                          [-β*I_hat/N , -β*S_hat/N, 0],\n",
    "                          [0          ,         -γ, 0]])\n",
    "\n",
    "        return  df_dx + np.array(λ).T@dh_dx\n",
    "    \n",
    "    def backwardsSolve(self):\n",
    "        \"\"\"Backwards solve for λ(t). \n",
    "        \"\"\"\n",
    "        #we have to integrate backwards\n",
    "\n",
    "        return odeint(func = self.lamdaDE, \n",
    "                      y0 = [0,0,0], \n",
    "                      t =self.time_steps[::-1])\n",
    "    "
   ]
  },
  {
   "cell_type": "code",
   "execution_count": 434,
   "metadata": {},
   "outputs": [],
   "source": [
    "s = solveSIR(S_true = data['S'],\n",
    "             I_true = data['I'], \n",
    "             R_true = data['R'],\n",
    "             N =  10200000,\n",
    "             p_0 = ( 3, 1, 8749080, 455710, 995210))\n",
    "\n",
    "s.S_hat = S_hat\n",
    "s.I_hat = I_hat"
   ]
  },
  {
   "cell_type": "code",
   "execution_count": 435,
   "metadata": {},
   "outputs": [
    {
     "data": {
      "text/plain": [
       "array([[ 0.00000000e+00,  0.00000000e+00,  0.00000000e+00],\n",
       "       [-9.84282821e+00, -4.03942223e+06,  0.00000000e+00],\n",
       "       [-6.21118340e+01, -1.66598443e+07,  0.00000000e+00],\n",
       "       [-2.40795778e+02, -5.71305415e+07,  0.00000000e+00],\n",
       "       [-8.06795643e+02, -1.89988660e+08,  0.00000000e+00],\n",
       "       [-2.59013509e+03, -6.39742791e+08,  0.00000000e+00],\n",
       "       [-8.33215273e+03, -2.22520456e+09,  0.00000000e+00],\n",
       "       [-2.74885049e+04, -8.08574735e+09,  0.00000000e+00],\n",
       "       [-9.43889022e+04, -3.10701735e+10,  0.00000000e+00],\n",
       "       [-3.41818894e+05, -1.27472689e+11,  0.00000000e+00],\n",
       "       [-1.31232421e+06, -5.57138204e+11,  0.00000000e+00],\n",
       "       [-5.33955043e+06, -2.60470084e+12,  0.00000000e+00],\n",
       "       [-2.32718964e+07, -1.33012175e+13,  0.00000000e+00],\n",
       "       [-1.11090393e+08, -7.63963843e+13,  0.00000000e+00],\n",
       "       [-5.96215166e+08, -5.05308795e+14,  0.00000000e+00],\n",
       "       [-3.64391829e+09, -3.87077602e+15,  0.00000000e+00],\n",
       "       [-2.52892675e+10, -3.43767229e+16,  0.00000000e+00],\n",
       "       [-1.96285816e+11, -3.48967296e+17,  0.00000000e+00],\n",
       "       [-1.62330834e+12, -3.90317157e+18,  0.00000000e+00],\n",
       "       [-1.32812194e+13, -4.65946462e+19,  0.00000000e+00],\n",
       "       [-9.47150954e+13, -5.82584810e+20,  0.00000000e+00],\n",
       "       [-3.39165132e+14, -7.53236433e+21,  0.00000000e+00]])"
      ]
     },
     "execution_count": 435,
     "metadata": {},
     "output_type": "execute_result"
    }
   ],
   "source": [
    "s.backwardsSolve()"
   ]
  },
  {
   "cell_type": "code",
   "execution_count": null,
   "metadata": {},
   "outputs": [],
   "source": []
  }
 ],
 "metadata": {
  "kernelspec": {
   "display_name": "anaconda3",
   "language": "python",
   "name": "python3"
  },
  "language_info": {
   "codemirror_mode": {
    "name": "ipython",
    "version": 3
   },
   "file_extension": ".py",
   "mimetype": "text/x-python",
   "name": "python",
   "nbconvert_exporter": "python",
   "pygments_lexer": "ipython3",
   "version": "3.12.4"
  }
 },
 "nbformat": 4,
 "nbformat_minor": 2
}
