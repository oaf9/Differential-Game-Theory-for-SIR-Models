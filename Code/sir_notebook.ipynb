{
 "cells": [
  {
   "cell_type": "code",
   "execution_count": 34,
   "metadata": {},
   "outputs": [],
   "source": [
    "import pandas as pd\n",
    "import matplotlib.pyplot as plt"
   ]
  },
  {
   "cell_type": "code",
   "execution_count": 35,
   "metadata": {},
   "outputs": [],
   "source": [
    "md = pd.read_csv(\"/Users/omarafifi/MyFolders/Differential-Game-Theory-for-SIR-Models/Data/michigan-covid-data.csv\")\n",
    "md['date'] = pd.to_datetime(md['date'])\n",
    "md = md.set_index('date').sort_index()\n",
    "md = md[220:]\n"
   ]
  },
  {
   "cell_type": "markdown",
   "metadata": {},
   "source": [
    "## Implementing the Adjoint Method"
   ]
  },
  {
   "cell_type": "markdown",
   "metadata": {},
   "source": [
    "#### 1.1 implement the forward pass "
   ]
  },
  {
   "cell_type": "code",
   "execution_count": 52,
   "metadata": {},
   "outputs": [],
   "source": [
    "#step 1 is to solve the forward problem I.e. to integrate the constraining ode. \n",
    "timesteps = 21\n",
    "\n",
    "def SIR(V, t, *args):\n",
    "\n",
    "    \"\"\"defines the SIR model\n",
    "       V = (S, I, R)\n",
    "       args = (N,Β, γ)\n",
    "    \"\"\"\n",
    "\n",
    "    N, B, g  = args\n",
    "    S, I, R = V\n",
    "\n",
    "    dS = -(B/N)*S*I\n",
    "    dI = (B/N)*S*I - g*I\n",
    "    dR = g*I\n",
    "\n",
    "    return dS, dI, dR\n",
    "\n",
    "def forwardSolve(model, initial_values, params, tf, step):\n",
    "\n",
    "    \"\"\"solves the forward problem\n",
    "\n",
    "       initial_values = (S_0,I_0,R_0)\n",
    "       params = (N,Β, γ)\n",
    "       model = SIR\n",
    "       tf = stop time\n",
    "       step = number of time steps\n",
    "\n",
    "    \"\"\"\n",
    "    try:\n",
    "        from scipy.integrate import odeint\n",
    "        import numpy as np\n",
    "    except:\n",
    "        print(\"unable to install dependancies numpy and scipy.integrate.odeint\")\n",
    "    \n",
    "    time_steps = np.arange(0, tf, step)\n",
    "    print(params)\n",
    "\n",
    "    return odeint(model, t = time_steps, y0 = initial_values, args = params)\n",
    "\n",
    "\n",
    "    \n",
    "\n"
   ]
  },
  {
   "cell_type": "markdown",
   "metadata": {},
   "source": [
    "### 1.2 Backwards integrate  $ \\frac{\\partial f }{\\partial x}  + \\lambda (t)^T( \\frac{\\partial h }{\\partial x} - \\frac{\\partial }{\\partial t} \\frac{\\partial h }{\\partial \\dot x}) - \\frac{\\partial \\lambda }{\\partial t} \\frac{\\partial h }{\\partial \\dot x} = 0 $ from $t_f \\to 0$"
   ]
  },
  {
   "cell_type": "code",
   "execution_count": null,
   "metadata": {},
   "outputs": [],
   "source": []
  }
 ],
 "metadata": {
  "kernelspec": {
   "display_name": "anaconda3",
   "language": "python",
   "name": "python3"
  },
  "language_info": {
   "codemirror_mode": {
    "name": "ipython",
    "version": 3
   },
   "file_extension": ".py",
   "mimetype": "text/x-python",
   "name": "python",
   "nbconvert_exporter": "python",
   "pygments_lexer": "ipython3",
   "version": "3.12.4"
  }
 },
 "nbformat": 4,
 "nbformat_minor": 2
}
